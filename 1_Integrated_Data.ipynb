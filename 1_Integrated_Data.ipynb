{
 "cells": [
  {
   "cell_type": "markdown",
   "metadata": {},
   "source": [
    "# Load library"
   ]
  },
  {
   "cell_type": "code",
   "execution_count": null,
   "metadata": {},
   "outputs": [],
   "source": [
    "import numpy as np\n",
    "import pandas as pd\n",
    "from keras.models import Model\n",
    "import matplotlib.pyplot as plt\n",
    "from sklearn.manifold import TSNE\n",
    "from keras.utils import plot_model\n",
    "from keras.layers import Input, Dense, Lambda, Layer, Concatenate\n",
    "from keras.layers.merge import concatenate\n",
    "from keras.layers import Lambda, Input, Dense\n",
    "\n",
    "from keras.losses import mse, binary_crossentropy\n",
    "from keras import backend as K\n",
    "\n",
    "import numpy as np\n",
    "import matplotlib.pyplot as plt"
   ]
  },
  {
   "cell_type": "markdown",
   "metadata": {},
   "source": [
    "# Prepare functions"
   ]
  },
  {
   "cell_type": "code",
   "execution_count": null,
   "metadata": {},
   "outputs": [],
   "source": [
    "# reparameterization trick\n",
    "# instead of sampling from Q(z|X), sample eps = N(0,I)\n",
    "# z = z_mean + sqrt(var)*eps\n",
    "def sampling(args):\n",
    "    \"\"\"Reparameterization trick by sampling fr an isotropic unit Gaussian.\n",
    "\n",
    "    # Arguments\n",
    "        args (tensor): mean and log of variance of Q(z|X)\n",
    "\n",
    "    # Returns\n",
    "        z (tensor): sampled latent vector\n",
    "    \"\"\"\n",
    "\n",
    "    z_mean, z_log_var = args\n",
    "    batch = K.shape(z_mean)[0]\n",
    "    dim = K.int_shape(z_mean)[1]\n",
    "    # by default, random_normal has mean=0 and std=1.0\n",
    "    epsilon = K.random_normal(shape=(batch, dim))\n",
    "    return z_mean + K.exp(0.5 * z_log_var) * epsilon\n",
    "\n"
   ]
  },
  {
   "cell_type": "markdown",
   "metadata": {},
   "source": [
    "# Loading data"
   ]
  },
  {
   "cell_type": "code",
   "execution_count": null,
   "metadata": {},
   "outputs": [],
   "source": [
    "scRNAseq = pd.read_csv('scRNAseq.txt',sep='\\t',header=None)\n",
    "scProteomics = pd.read_csv('scProteomics.txt',sep='\\t',header=None)\n",
    "\n",
    "X_scRNAseq = scRNAseq.values[:,0:(scRNAseq.shape[1]-1)]\n",
    "Y_scRNAseq = scRNAseq.values[:,scRNAseq.shape[1]-1]\n",
    "X_scProteomics = scProteomics.values[:,0:(scProteomics.shape[1]-1)]\n",
    "Y_scProteomics = scProteomics.values[:,scProteomics.shape[1]-1]\n"
   ]
  },
  {
   "cell_type": "markdown",
   "metadata": {},
   "source": [
    "# Auto-Encoder Model\n",
    "#### In this experiment, I am using this model as the main method to integrate data"
   ]
  },
  {
   "cell_type": "code",
   "execution_count": null,
   "metadata": {},
   "outputs": [],
   "source": [
    "# Input Layer\n",
    "ncol_scRNAseq = X_scRNAseq.shape[1]\n",
    "input_dim_scRNAseq = Input(shape = (ncol_scRNAseq, ), name = \"scRNAseq\")\n",
    "ncol_scProteomics = X_scProteomics.shape[1]\n",
    "input_dim_scProteomics = Input(shape = (ncol_scProteomics, ), name = \"scProteomics\")\n",
    "\n",
    "# Dimensions of Encoder for each OMIC\n",
    "encoding_dim_scRNAseq = 50\n",
    "encoding_dim_scProteomics = 10\n",
    "\n",
    "# Encoder layer for each OMIC\n",
    "encoded_scRNAseq = Dense(encoding_dim_scRNAseq, activation = 'linear', \n",
    "                         name = \"Encoder_scRNAseq\")(input_dim_scRNAseq)\n",
    "encoded_scProteomics = Dense(encoding_dim_scProteomics, activation = 'linear', \n",
    "                             name = \"Encoder_scProteomics\")(input_dim_scProteomics)\n",
    "\n",
    "# Merging Encoder layers from different OMICs\n",
    "merge = concatenate([encoded_scRNAseq, encoded_scProteomics])\n",
    "\n",
    "# Bottleneck compression\n",
    "bottleneck = Dense(50, kernel_initializer = 'uniform', activation = 'linear', \n",
    "                   name = \"Bottleneck\")(merge)\n",
    "\n",
    "#Inverse merging\n",
    "merge_inverse = Dense(encoding_dim_scRNAseq + encoding_dim_scProteomics, \n",
    "                      activation = 'elu', name = \"Concatenate_Inverse\")(bottleneck)\n",
    "\n",
    "# Decoder layer for each OMIC\n",
    "decoded_scRNAseq = Dense(ncol_scRNAseq, activation = 'sigmoid', \n",
    "                         name = \"Decoder_scRNAseq\")(merge_inverse)\n",
    "decoded_scProteomics = Dense(ncol_scProteomics, activation = 'sigmoid', \n",
    "                             name = \"Decoder_scProteomics\")(merge_inverse)\n",
    "\n",
    "# Combining Encoder and Decoder into an Autoencoder model\n",
    "autoencoder = Model(input = [input_dim_scRNAseq, input_dim_scProteomics], \n",
    "                    output = [decoded_scRNAseq, decoded_scProteomics])\n",
    "\n",
    "# Compile Autoencoder\n",
    "autoencoder.compile(optimizer = 'adam', \n",
    "                    loss={'Decoder_scRNAseq': 'mean_squared_error', \n",
    "                          'Decoder_scProteomics': 'mean_squared_error'})\n",
    "autoencoder.summary()"
   ]
  },
  {
   "cell_type": "code",
   "execution_count": null,
   "metadata": {},
   "outputs": [],
   "source": [
    "# Autoencoder training\n",
    "estimator = autoencoder.fit([X_scRNAseq, X_scProteomics], \n",
    "                            [X_scRNAseq, X_scProteomics], \n",
    "                            epochs = 100, batch_size = 128, \n",
    "                            validation_split = 0.05, shuffle = True, verbose = 1)"
   ]
  },
  {
   "cell_type": "code",
   "execution_count": null,
   "metadata": {},
   "outputs": [],
   "source": [
    "# Encoder model\n",
    "encoder = Model(input = [input_dim_scRNAseq, input_dim_scProteomics], \n",
    "                output = bottleneck)\n",
    "bottleneck_representation = encoder.predict([X_scRNAseq, X_scProteomics])"
   ]
  },
  {
   "cell_type": "code",
   "execution_count": null,
   "metadata": {},
   "outputs": [],
   "source": [
    "pd.DataFrame(bottleneck_representation).to_csv(\"autoencoder_50dims.csv\",index = False)"
   ]
  },
  {
   "cell_type": "markdown",
   "metadata": {},
   "source": [
    "# Variational Auto-Encoder model"
   ]
  },
  {
   "cell_type": "code",
   "execution_count": null,
   "metadata": {},
   "outputs": [],
   "source": [
    "# network parameters\n",
    "batch_size = 128\n",
    "latent_dim = 50\n",
    "epochs = 50\n",
    "\n",
    "# VAE model = encoder + decoder\n",
    "# build encoder model\n",
    "# Input Layer\n",
    "ncol_scRNAseq = X_scRNAseq.shape[1]\n",
    "input_dim_scRNAseq = Input(shape = (ncol_scRNAseq, ), name = \"scRNAseq\")\n",
    "ncol_scProteomics = X_scProteomics.shape[1]\n",
    "input_dim_scProteomics = Input(shape = (ncol_scProteomics, ), name = \"scProteomics\")\n",
    "\n",
    "# Dimensions of Encoder for each OMIC\n",
    "encoding_dim_scRNAseq = 50\n",
    "encoding_dim_scProteomics = 10\n",
    "\n",
    "# Encoder layer for each OMIC\n",
    "encoded_scRNAseq = Dense(encoding_dim_scRNAseq, activation = 'relu', \n",
    "                         name = \"Encoder_scRNAseq\")(input_dim_scRNAseq)\n",
    "\n",
    "encoded_scProteomics = Dense(encoding_dim_scProteomics, activation = 'relu', \n",
    "                             name = \"Encoder_scProteomics\")(input_dim_scProteomics)\n",
    "\n",
    "\n",
    "merge_inputs = concatenate([encoded_scRNAseq, encoded_scProteomics])\n",
    "\n",
    "z_mean = Dense(latent_dim, name='z_mean')(merge_inputs)\n",
    "z_log_var = Dense(latent_dim, name='z_log_var')(merge_inputs)\n",
    "z = Lambda(sampling, output_shape=(latent_dim,), name='z')([z_mean, z_log_var])\n",
    "\n",
    "# instantiate encoder model\n",
    "encoder = Model([input_dim_scRNAseq, input_dim_scProteomics], [z_mean, z_log_var, z], name='encoder')\n",
    "encoder.summary()\n",
    "#Inverse merging\n",
    "merge_inverse = Dense(encoding_dim_scRNAseq + encoding_dim_scProteomics, \n",
    "                      activation = 'elu', name = \"Concatenate_Inverse\")(bottleneck)\n",
    "\n",
    "# Decoder layer for each OMIC\n",
    "\n",
    "\n",
    "# build decoder model\n",
    "latent_inputs = Input(shape=(latent_dim,), name='z_sampling')\n",
    "#Inverse merging\n",
    "merge_inverse = Dense(encoding_dim_scRNAseq + encoding_dim_scProteomics, \n",
    "                      activation = 'elu', name = \"Concatenate_Inverse\")(latent_inputs)\n",
    "\n",
    "\n",
    "decoded_scRNAseq = Dense(ncol_scRNAseq, activation = 'sigmoid', \n",
    "                         name = \"Decoder_scRNAseq\")(merge_inverse)\n",
    "decoded_scProteomics = Dense(ncol_scProteomics, activation = 'sigmoid', \n",
    "                             name = \"Decoder_scProteomics\")(merge_inverse)\n",
    "\n",
    "\n",
    "# instantiate decoder model\n",
    "decoder = Model(latent_inputs, [decoded_scRNAseq, decoded_scProteomics], name='decoder')\n",
    "decoder.summary()"
   ]
  },
  {
   "cell_type": "code",
   "execution_count": null,
   "metadata": {},
   "outputs": [],
   "source": [
    "# instantiate VAE model\n",
    "outputs = decoder(encoder([input_dim_scRNAseq, input_dim_scProteomics])[2])\n",
    "vae = Model([input_dim_scRNAseq, input_dim_scProteomics], outputs, name='vae_mlp')\n",
    "vae.summary()"
   ]
  },
  {
   "cell_type": "code",
   "execution_count": null,
   "metadata": {},
   "outputs": [],
   "source": [
    "# Create loss functions\n",
    "reconstruction_loss = mse(input_dim_scRNAseq, \n",
    "                          outputs[0])\n",
    "reconstruction_loss *= 3000\n",
    "kl_loss = 1 + z_log_var - K.square(z_mean) - K.exp(z_log_var)\n",
    "kl_loss = K.sum(kl_loss, axis=-1)\n",
    "kl_loss *= -0.5\n",
    "vae_loss_1 = K.mean(reconstruction_loss + kl_loss)\n",
    "\n",
    "reconstruction_loss = mse(input_dim_scProteomics, \n",
    "                          outputs[1])\n",
    "reconstruction_loss *= 96\n",
    "kl_loss = 1 + z_log_var - K.square(z_mean) - K.exp(z_log_var)\n",
    "kl_loss = K.sum(kl_loss, axis=-1)\n",
    "kl_loss *= -0.5\n",
    "vae_loss_2 = K.mean(reconstruction_loss + kl_loss)"
   ]
  },
  {
   "cell_type": "code",
   "execution_count": null,
   "metadata": {},
   "outputs": [],
   "source": [
    "vae.add_loss(vae_loss_1)\n",
    "vae.add_loss(vae_loss_2)\n",
    "vae.compile(optimizer='rmsprop')\n",
    "vae.metrics_tensors.append(vae_loss_1)\n",
    "vae.metrics_names.append(\"vae_loss_1\")\n",
    "vae.metrics_tensors.append(vae_loss_2)\n",
    "vae.metrics_names.append(\"vae_loss_2\")"
   ]
  },
  {
   "cell_type": "code",
   "execution_count": null,
   "metadata": {},
   "outputs": [],
   "source": [
    "vae.fit([X_scRNAseq, X_scProteomics],\n",
    "                epochs=epochs,\n",
    "                batch_size=batch_size,\n",
    "                validation_data=([X_scRNAseq, X_scProteomics], None),shuffle = True)"
   ]
  },
  {
   "cell_type": "code",
   "execution_count": null,
   "metadata": {},
   "outputs": [],
   "source": [
    "test_output = vae.get_layer(\"encoder\").predict([X_scRNAseq, X_scProteomics])"
   ]
  },
  {
   "cell_type": "code",
   "execution_count": null,
   "metadata": {},
   "outputs": [],
   "source": [
    "pd.DataFrame(test_output[0]).to_csv(\"vae_50dims.csv\",index = False)"
   ]
  }
 ],
 "metadata": {
  "kernelspec": {
   "display_name": "Python 3",
   "language": "python",
   "name": "python3"
  },
  "language_info": {
   "codemirror_mode": {
    "name": "ipython",
    "version": 3
   },
   "file_extension": ".py",
   "mimetype": "text/x-python",
   "name": "python",
   "nbconvert_exporter": "python",
   "pygments_lexer": "ipython3",
   "version": "3.6.5"
  }
 },
 "nbformat": 4,
 "nbformat_minor": 2
}
